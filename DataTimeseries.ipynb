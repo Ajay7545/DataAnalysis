{
 "cells": [
  {
   "cell_type": "code",
   "execution_count": 5,
   "metadata": {},
   "outputs": [
    {
     "data": {
      "text/html": [
       "<div>\n",
       "<style scoped>\n",
       "    .dataframe tbody tr th:only-of-type {\n",
       "        vertical-align: middle;\n",
       "    }\n",
       "\n",
       "    .dataframe tbody tr th {\n",
       "        vertical-align: top;\n",
       "    }\n",
       "\n",
       "    .dataframe thead th {\n",
       "        text-align: right;\n",
       "    }\n",
       "</style>\n",
       "<table border=\"1\" class=\"dataframe\">\n",
       "  <thead>\n",
       "    <tr style=\"text-align: right;\">\n",
       "      <th></th>\n",
       "      <th>date</th>\n",
       "      <th>close</th>\n",
       "      <th>volume</th>\n",
       "      <th>open</th>\n",
       "      <th>high</th>\n",
       "      <th>low</th>\n",
       "    </tr>\n",
       "  </thead>\n",
       "  <tbody>\n",
       "    <tr>\n",
       "      <th>0</th>\n",
       "      <td>13:48</td>\n",
       "      <td>218.85</td>\n",
       "      <td>21,742,201</td>\n",
       "      <td>217.68</td>\n",
       "      <td>221.85</td>\n",
       "      <td>217.120</td>\n",
       "    </tr>\n",
       "    <tr>\n",
       "      <th>1</th>\n",
       "      <td>2018/09/17</td>\n",
       "      <td>217.88</td>\n",
       "      <td>36810120.0000</td>\n",
       "      <td>222.15</td>\n",
       "      <td>222.95</td>\n",
       "      <td>217.270</td>\n",
       "    </tr>\n",
       "    <tr>\n",
       "      <th>2</th>\n",
       "      <td>2018/09/14</td>\n",
       "      <td>223.84</td>\n",
       "      <td>31801970.0000</td>\n",
       "      <td>225.75</td>\n",
       "      <td>226.84</td>\n",
       "      <td>222.522</td>\n",
       "    </tr>\n",
       "    <tr>\n",
       "      <th>3</th>\n",
       "      <td>2018/09/13</td>\n",
       "      <td>226.41</td>\n",
       "      <td>41411350.0000</td>\n",
       "      <td>223.52</td>\n",
       "      <td>228.35</td>\n",
       "      <td>222.570</td>\n",
       "    </tr>\n",
       "    <tr>\n",
       "      <th>4</th>\n",
       "      <td>2018/09/12</td>\n",
       "      <td>221.07</td>\n",
       "      <td>49118510.0000</td>\n",
       "      <td>224.94</td>\n",
       "      <td>225.00</td>\n",
       "      <td>219.840</td>\n",
       "    </tr>\n",
       "  </tbody>\n",
       "</table>\n",
       "</div>"
      ],
      "text/plain": [
       "         date   close         volume    open    high      low\n",
       "0       13:48  218.85     21,742,201  217.68  221.85  217.120\n",
       "1  2018/09/17  217.88  36810120.0000  222.15  222.95  217.270\n",
       "2  2018/09/14  223.84  31801970.0000  225.75  226.84  222.522\n",
       "3  2018/09/13  226.41  41411350.0000  223.52  228.35  222.570\n",
       "4  2018/09/12  221.07  49118510.0000  224.94  225.00  219.840"
      ]
     },
     "execution_count": 5,
     "metadata": {},
     "output_type": "execute_result"
    }
   ],
   "source": [
    "import pandas as pd\n",
    "df=pd.read_csv('HistoricalQuotes.csv')\n",
    "df.head(5)"
   ]
  },
  {
   "cell_type": "code",
   "execution_count": 6,
   "metadata": {},
   "outputs": [
    {
     "data": {
      "text/plain": [
       "pandas.core.series.Series"
      ]
     },
     "execution_count": 6,
     "metadata": {},
     "output_type": "execute_result"
    }
   ],
   "source": [
    "type(df['date'])"
   ]
  },
  {
   "cell_type": "code",
   "execution_count": 12,
   "metadata": {},
   "outputs": [
    {
     "data": {
      "text/html": [
       "<div>\n",
       "<style scoped>\n",
       "    .dataframe tbody tr th:only-of-type {\n",
       "        vertical-align: middle;\n",
       "    }\n",
       "\n",
       "    .dataframe tbody tr th {\n",
       "        vertical-align: top;\n",
       "    }\n",
       "\n",
       "    .dataframe thead th {\n",
       "        text-align: right;\n",
       "    }\n",
       "</style>\n",
       "<table border=\"1\" class=\"dataframe\">\n",
       "  <thead>\n",
       "    <tr style=\"text-align: right;\">\n",
       "      <th></th>\n",
       "      <th>close</th>\n",
       "      <th>volume</th>\n",
       "      <th>open</th>\n",
       "      <th>high</th>\n",
       "      <th>low</th>\n",
       "    </tr>\n",
       "    <tr>\n",
       "      <th>date</th>\n",
       "      <th></th>\n",
       "      <th></th>\n",
       "      <th></th>\n",
       "      <th></th>\n",
       "      <th></th>\n",
       "    </tr>\n",
       "  </thead>\n",
       "  <tbody>\n",
       "    <tr>\n",
       "      <th>2018-09-18 13:48:00</th>\n",
       "      <td>218.85</td>\n",
       "      <td>21,742,201</td>\n",
       "      <td>217.68</td>\n",
       "      <td>221.85</td>\n",
       "      <td>217.120</td>\n",
       "    </tr>\n",
       "    <tr>\n",
       "      <th>2018-09-17 00:00:00</th>\n",
       "      <td>217.88</td>\n",
       "      <td>36810120.0000</td>\n",
       "      <td>222.15</td>\n",
       "      <td>222.95</td>\n",
       "      <td>217.270</td>\n",
       "    </tr>\n",
       "    <tr>\n",
       "      <th>2018-09-14 00:00:00</th>\n",
       "      <td>223.84</td>\n",
       "      <td>31801970.0000</td>\n",
       "      <td>225.75</td>\n",
       "      <td>226.84</td>\n",
       "      <td>222.522</td>\n",
       "    </tr>\n",
       "    <tr>\n",
       "      <th>2018-09-13 00:00:00</th>\n",
       "      <td>226.41</td>\n",
       "      <td>41411350.0000</td>\n",
       "      <td>223.52</td>\n",
       "      <td>228.35</td>\n",
       "      <td>222.570</td>\n",
       "    </tr>\n",
       "    <tr>\n",
       "      <th>2018-09-12 00:00:00</th>\n",
       "      <td>221.07</td>\n",
       "      <td>49118510.0000</td>\n",
       "      <td>224.94</td>\n",
       "      <td>225.00</td>\n",
       "      <td>219.840</td>\n",
       "    </tr>\n",
       "  </tbody>\n",
       "</table>\n",
       "</div>"
      ],
      "text/plain": [
       "                      close         volume    open    high      low\n",
       "date                                                               \n",
       "2018-09-18 13:48:00  218.85     21,742,201  217.68  221.85  217.120\n",
       "2018-09-17 00:00:00  217.88  36810120.0000  222.15  222.95  217.270\n",
       "2018-09-14 00:00:00  223.84  31801970.0000  225.75  226.84  222.522\n",
       "2018-09-13 00:00:00  226.41  41411350.0000  223.52  228.35  222.570\n",
       "2018-09-12 00:00:00  221.07  49118510.0000  224.94  225.00  219.840"
      ]
     },
     "execution_count": 12,
     "metadata": {},
     "output_type": "execute_result"
    }
   ],
   "source": [
    "df=pd.read_csv('HistoricalQuotes.csv',parse_dates=['date'], index_col=['date'])\n",
    "df.head(5)"
   ]
  },
  {
   "cell_type": "code",
   "execution_count": 19,
   "metadata": {},
   "outputs": [
    {
     "data": {
      "text/plain": [
       "DatetimeIndex(['2018-09-18 13:48:00', '2018-09-17 00:00:00',\n",
       "               '2018-09-14 00:00:00', '2018-09-13 00:00:00',\n",
       "               '2018-09-12 00:00:00', '2018-09-11 00:00:00',\n",
       "               '2018-09-10 00:00:00', '2018-09-07 00:00:00',\n",
       "               '2018-09-06 00:00:00', '2018-09-05 00:00:00',\n",
       "               '2018-09-04 00:00:00', '2018-08-31 00:00:00',\n",
       "               '2018-08-30 00:00:00', '2018-08-29 00:00:00',\n",
       "               '2018-08-28 00:00:00', '2018-08-27 00:00:00',\n",
       "               '2018-08-24 00:00:00', '2018-08-23 00:00:00',\n",
       "               '2018-08-22 00:00:00', '2018-08-21 00:00:00',\n",
       "               '2018-08-20 00:00:00', '2018-08-17 00:00:00',\n",
       "               '2018-08-16 00:00:00', '2018-08-15 00:00:00',\n",
       "               '2018-08-14 00:00:00', '2018-08-13 00:00:00',\n",
       "               '2018-08-10 00:00:00', '2018-08-09 00:00:00',\n",
       "               '2018-08-08 00:00:00', '2018-08-07 00:00:00',\n",
       "               '2018-08-06 00:00:00', '2018-08-03 00:00:00',\n",
       "               '2018-08-02 00:00:00', '2018-08-01 00:00:00',\n",
       "               '2018-07-31 00:00:00', '2018-07-30 00:00:00',\n",
       "               '2018-07-27 00:00:00', '2018-07-26 00:00:00',\n",
       "               '2018-07-25 00:00:00', '2018-07-24 00:00:00',\n",
       "               '2018-07-23 00:00:00', '2018-07-20 00:00:00',\n",
       "               '2018-07-19 00:00:00', '2018-07-18 00:00:00',\n",
       "               '2018-07-17 00:00:00', '2018-07-16 00:00:00',\n",
       "               '2018-07-13 00:00:00', '2018-07-12 00:00:00',\n",
       "               '2018-07-11 00:00:00', '2018-07-10 00:00:00',\n",
       "               '2018-07-09 00:00:00', '2018-07-06 00:00:00',\n",
       "               '2018-07-05 00:00:00', '2018-07-03 00:00:00',\n",
       "               '2018-07-02 00:00:00', '2018-06-29 00:00:00',\n",
       "               '2018-06-28 00:00:00', '2018-06-27 00:00:00',\n",
       "               '2018-06-26 00:00:00', '2018-06-25 00:00:00',\n",
       "               '2018-06-22 00:00:00', '2018-06-21 00:00:00',\n",
       "               '2018-06-20 00:00:00', '2018-06-19 00:00:00',\n",
       "               '2018-06-18 00:00:00'],\n",
       "              dtype='datetime64[ns]', name='date', freq=None)"
      ]
     },
     "execution_count": 19,
     "metadata": {},
     "output_type": "execute_result"
    }
   ],
   "source": [
    "df.index"
   ]
  },
  {
   "cell_type": "code",
   "execution_count": 31,
   "metadata": {},
   "outputs": [
    {
     "data": {
      "text/html": [
       "<div>\n",
       "<style scoped>\n",
       "    .dataframe tbody tr th:only-of-type {\n",
       "        vertical-align: middle;\n",
       "    }\n",
       "\n",
       "    .dataframe tbody tr th {\n",
       "        vertical-align: top;\n",
       "    }\n",
       "\n",
       "    .dataframe thead th {\n",
       "        text-align: right;\n",
       "    }\n",
       "</style>\n",
       "<table border=\"1\" class=\"dataframe\">\n",
       "  <thead>\n",
       "    <tr style=\"text-align: right;\">\n",
       "      <th></th>\n",
       "      <th>close</th>\n",
       "      <th>volume</th>\n",
       "      <th>open</th>\n",
       "      <th>high</th>\n",
       "      <th>low</th>\n",
       "    </tr>\n",
       "    <tr>\n",
       "      <th>date</th>\n",
       "      <th></th>\n",
       "      <th></th>\n",
       "      <th></th>\n",
       "      <th></th>\n",
       "      <th></th>\n",
       "    </tr>\n",
       "  </thead>\n",
       "  <tbody>\n",
       "    <tr>\n",
       "      <th>2018-07-31</th>\n",
       "      <td>190.29</td>\n",
       "      <td>37847260.0000</td>\n",
       "      <td>190.30</td>\n",
       "      <td>192.1400</td>\n",
       "      <td>189.3400</td>\n",
       "    </tr>\n",
       "    <tr>\n",
       "      <th>2018-07-30</th>\n",
       "      <td>189.91</td>\n",
       "      <td>20912890.0000</td>\n",
       "      <td>191.90</td>\n",
       "      <td>192.2000</td>\n",
       "      <td>189.0700</td>\n",
       "    </tr>\n",
       "    <tr>\n",
       "      <th>2018-07-27</th>\n",
       "      <td>190.98</td>\n",
       "      <td>23975350.0000</td>\n",
       "      <td>194.99</td>\n",
       "      <td>195.1900</td>\n",
       "      <td>190.1000</td>\n",
       "    </tr>\n",
       "    <tr>\n",
       "      <th>2018-07-26</th>\n",
       "      <td>194.21</td>\n",
       "      <td>19005150.0000</td>\n",
       "      <td>194.61</td>\n",
       "      <td>195.9600</td>\n",
       "      <td>193.6100</td>\n",
       "    </tr>\n",
       "    <tr>\n",
       "      <th>2018-07-25</th>\n",
       "      <td>194.82</td>\n",
       "      <td>16553500.0000</td>\n",
       "      <td>193.06</td>\n",
       "      <td>194.8500</td>\n",
       "      <td>192.4300</td>\n",
       "    </tr>\n",
       "    <tr>\n",
       "      <th>2018-07-24</th>\n",
       "      <td>193.00</td>\n",
       "      <td>18680930.0000</td>\n",
       "      <td>192.45</td>\n",
       "      <td>193.6601</td>\n",
       "      <td>192.0500</td>\n",
       "    </tr>\n",
       "    <tr>\n",
       "      <th>2018-07-23</th>\n",
       "      <td>191.61</td>\n",
       "      <td>15955820.0000</td>\n",
       "      <td>190.68</td>\n",
       "      <td>191.9600</td>\n",
       "      <td>189.5600</td>\n",
       "    </tr>\n",
       "    <tr>\n",
       "      <th>2018-07-20</th>\n",
       "      <td>191.44</td>\n",
       "      <td>20670830.0000</td>\n",
       "      <td>191.78</td>\n",
       "      <td>192.4300</td>\n",
       "      <td>190.1700</td>\n",
       "    </tr>\n",
       "    <tr>\n",
       "      <th>2018-07-19</th>\n",
       "      <td>191.88</td>\n",
       "      <td>20182050.0000</td>\n",
       "      <td>189.69</td>\n",
       "      <td>192.5500</td>\n",
       "      <td>189.6900</td>\n",
       "    </tr>\n",
       "    <tr>\n",
       "      <th>2018-07-18</th>\n",
       "      <td>190.40</td>\n",
       "      <td>16365720.0000</td>\n",
       "      <td>191.78</td>\n",
       "      <td>191.8000</td>\n",
       "      <td>189.9300</td>\n",
       "    </tr>\n",
       "    <tr>\n",
       "      <th>2018-07-17</th>\n",
       "      <td>191.45</td>\n",
       "      <td>15515000.0000</td>\n",
       "      <td>189.75</td>\n",
       "      <td>191.8700</td>\n",
       "      <td>189.2000</td>\n",
       "    </tr>\n",
       "    <tr>\n",
       "      <th>2018-07-16</th>\n",
       "      <td>190.91</td>\n",
       "      <td>15009800.0000</td>\n",
       "      <td>191.52</td>\n",
       "      <td>192.6500</td>\n",
       "      <td>190.4150</td>\n",
       "    </tr>\n",
       "    <tr>\n",
       "      <th>2018-07-13</th>\n",
       "      <td>191.33</td>\n",
       "      <td>12506830.0000</td>\n",
       "      <td>191.08</td>\n",
       "      <td>191.8400</td>\n",
       "      <td>190.9000</td>\n",
       "    </tr>\n",
       "    <tr>\n",
       "      <th>2018-07-12</th>\n",
       "      <td>191.03</td>\n",
       "      <td>18000180.0000</td>\n",
       "      <td>189.53</td>\n",
       "      <td>191.4100</td>\n",
       "      <td>189.3100</td>\n",
       "    </tr>\n",
       "    <tr>\n",
       "      <th>2018-07-11</th>\n",
       "      <td>187.88</td>\n",
       "      <td>18776390.0000</td>\n",
       "      <td>188.50</td>\n",
       "      <td>189.7799</td>\n",
       "      <td>187.6100</td>\n",
       "    </tr>\n",
       "    <tr>\n",
       "      <th>2018-07-10</th>\n",
       "      <td>190.35</td>\n",
       "      <td>15801370.0000</td>\n",
       "      <td>190.71</td>\n",
       "      <td>191.2800</td>\n",
       "      <td>190.1801</td>\n",
       "    </tr>\n",
       "    <tr>\n",
       "      <th>2018-07-09</th>\n",
       "      <td>190.58</td>\n",
       "      <td>19636390.0000</td>\n",
       "      <td>189.50</td>\n",
       "      <td>190.6800</td>\n",
       "      <td>189.3000</td>\n",
       "    </tr>\n",
       "    <tr>\n",
       "      <th>2018-07-06</th>\n",
       "      <td>187.97</td>\n",
       "      <td>17426160.0000</td>\n",
       "      <td>185.42</td>\n",
       "      <td>188.4340</td>\n",
       "      <td>185.2000</td>\n",
       "    </tr>\n",
       "    <tr>\n",
       "      <th>2018-07-05</th>\n",
       "      <td>185.40</td>\n",
       "      <td>16543880.0000</td>\n",
       "      <td>185.26</td>\n",
       "      <td>186.4100</td>\n",
       "      <td>184.2800</td>\n",
       "    </tr>\n",
       "    <tr>\n",
       "      <th>2018-07-03</th>\n",
       "      <td>183.92</td>\n",
       "      <td>13954810.0000</td>\n",
       "      <td>187.79</td>\n",
       "      <td>187.9500</td>\n",
       "      <td>183.5400</td>\n",
       "    </tr>\n",
       "    <tr>\n",
       "      <th>2018-07-02</th>\n",
       "      <td>187.18</td>\n",
       "      <td>17675210.0000</td>\n",
       "      <td>183.82</td>\n",
       "      <td>187.3000</td>\n",
       "      <td>183.4200</td>\n",
       "    </tr>\n",
       "  </tbody>\n",
       "</table>\n",
       "</div>"
      ],
      "text/plain": [
       "             close         volume    open      high       low\n",
       "date                                                         \n",
       "2018-07-31  190.29  37847260.0000  190.30  192.1400  189.3400\n",
       "2018-07-30  189.91  20912890.0000  191.90  192.2000  189.0700\n",
       "2018-07-27  190.98  23975350.0000  194.99  195.1900  190.1000\n",
       "2018-07-26  194.21  19005150.0000  194.61  195.9600  193.6100\n",
       "2018-07-25  194.82  16553500.0000  193.06  194.8500  192.4300\n",
       "2018-07-24  193.00  18680930.0000  192.45  193.6601  192.0500\n",
       "2018-07-23  191.61  15955820.0000  190.68  191.9600  189.5600\n",
       "2018-07-20  191.44  20670830.0000  191.78  192.4300  190.1700\n",
       "2018-07-19  191.88  20182050.0000  189.69  192.5500  189.6900\n",
       "2018-07-18  190.40  16365720.0000  191.78  191.8000  189.9300\n",
       "2018-07-17  191.45  15515000.0000  189.75  191.8700  189.2000\n",
       "2018-07-16  190.91  15009800.0000  191.52  192.6500  190.4150\n",
       "2018-07-13  191.33  12506830.0000  191.08  191.8400  190.9000\n",
       "2018-07-12  191.03  18000180.0000  189.53  191.4100  189.3100\n",
       "2018-07-11  187.88  18776390.0000  188.50  189.7799  187.6100\n",
       "2018-07-10  190.35  15801370.0000  190.71  191.2800  190.1801\n",
       "2018-07-09  190.58  19636390.0000  189.50  190.6800  189.3000\n",
       "2018-07-06  187.97  17426160.0000  185.42  188.4340  185.2000\n",
       "2018-07-05  185.40  16543880.0000  185.26  186.4100  184.2800\n",
       "2018-07-03  183.92  13954810.0000  187.79  187.9500  183.5400\n",
       "2018-07-02  187.18  17675210.0000  183.82  187.3000  183.4200"
      ]
     },
     "execution_count": 31,
     "metadata": {},
     "output_type": "execute_result"
    }
   ],
   "source": [
    "df['2018-07']"
   ]
  },
  {
   "cell_type": "code",
   "execution_count": 26,
   "metadata": {},
   "outputs": [
    {
     "data": {
      "text/plain": [
       "190.31142857142856"
      ]
     },
     "execution_count": 26,
     "metadata": {},
     "output_type": "execute_result"
    }
   ],
   "source": [
    "df['2018-07'].close.mean() #a g stock pribe in july 2018"
   ]
  },
  {
   "cell_type": "code",
   "execution_count": 36,
   "metadata": {},
   "outputs": [
    {
     "data": {
      "text/html": [
       "<div>\n",
       "<style scoped>\n",
       "    .dataframe tbody tr th:only-of-type {\n",
       "        vertical-align: middle;\n",
       "    }\n",
       "\n",
       "    .dataframe tbody tr th {\n",
       "        vertical-align: top;\n",
       "    }\n",
       "\n",
       "    .dataframe thead th {\n",
       "        text-align: right;\n",
       "    }\n",
       "</style>\n",
       "<table border=\"1\" class=\"dataframe\">\n",
       "  <thead>\n",
       "    <tr style=\"text-align: right;\">\n",
       "      <th></th>\n",
       "      <th>close</th>\n",
       "      <th>volume</th>\n",
       "      <th>open</th>\n",
       "      <th>high</th>\n",
       "      <th>low</th>\n",
       "    </tr>\n",
       "    <tr>\n",
       "      <th>date</th>\n",
       "      <th></th>\n",
       "      <th></th>\n",
       "      <th></th>\n",
       "      <th></th>\n",
       "      <th></th>\n",
       "    </tr>\n",
       "  </thead>\n",
       "  <tbody>\n",
       "  </tbody>\n",
       "</table>\n",
       "</div>"
      ],
      "text/plain": [
       "Empty DataFrame\n",
       "Columns: [close, volume, open, high, low]\n",
       "Index: []"
      ]
     },
     "execution_count": 36,
     "metadata": {},
     "output_type": "execute_result"
    }
   ],
   "source": [
    "#we can also see data in btw dates \n",
    "df['2018-01-01':'2018-7-30']"
   ]
  },
  {
   "cell_type": "code",
   "execution_count": 38,
   "metadata": {},
   "outputs": [
    {
     "data": {
      "text/plain": [
       "date\n",
       "2018-06-30    185.268000\n",
       "2018-07-31    190.311429\n",
       "2018-08-31    213.346087\n",
       "2018-09-30    222.714545\n",
       "Freq: M, Name: close, dtype: float64"
      ]
     },
     "execution_count": 38,
     "metadata": {},
     "output_type": "execute_result"
    }
   ],
   "source": [
    "df.close.resample('M').mean()"
   ]
  },
  {
   "cell_type": "code",
   "execution_count": 39,
   "metadata": {},
   "outputs": [
    {
     "data": {
      "text/plain": [
       "<matplotlib.axes._subplots.AxesSubplot at 0x2088af60ef0>"
      ]
     },
     "execution_count": 39,
     "metadata": {},
     "output_type": "execute_result"
    },
    {
     "data": {
      "image/png": "[encoded data removed]",
      "text/plain": [
       "<Figure size 432x288 with 1 Axes>"
      ]
     },
     "metadata": {},
     "output_type": "display_data"
    }
   ],
   "source": [
    "%matplotlib inline\n",
    "df.close.resample('M').mean().plot()"
   ]
  },
  {
   "cell_type": "code",
   "execution_count": 40,
   "metadata": {},
   "outputs": [
    {
     "data": {
      "text/plain": [
       "<matplotlib.axes._subplots.AxesSubplot at 0x2088b030f98>"
      ]
     },
     "execution_count": 40,
     "metadata": {},
     "output_type": "execute_result"
    },
    {
     "data": {
      "image/png": "[encoded data removed]",
      "text/plain": [
       "<Figure size 432x288 with 1 Axes>"
      ]
     },
     "metadata": {},
     "output_type": "display_data"
    }
   ],
   "source": [
    "%matplotlib inline\n",
    "df.close.resample('W').mean().plot()"
   ]
  },
  {
   "cell_type": "code",
   "execution_count": 41,
   "metadata": {},
   "outputs": [
    {
     "data": {
      "text/plain": [
       "<matplotlib.axes._subplots.AxesSubplot at 0x2088b2ae0b8>"
      ]
     },
     "execution_count": 41,
     "metadata": {},
     "output_type": "execute_result"
    },
    {
     "data": {
      "image/png": "[encoded data removed]",
      "text/plain": [
       "<Figure size 432x288 with 1 Axes>"
      ]
     },
     "metadata": {},
     "output_type": "display_data"
    }
   ],
   "source": [
    "%matplotlib inline\n",
    "df.close.resample('M').mean().plot(kind='bar')"
   ]
  },
  {
   "cell_type": "code",
   "execution_count": null,
   "metadata": {},
   "outputs": [],
   "source": []
  }
 ],
 "metadata": {
  "kernelspec": {
   "display_name": "Python 3",
   "language": "python",
   "name": "python3"
  },
  "language_info": {
   "codemirror_mode": {
    "name": "ipython",
    "version": 3
   },
   "file_extension": ".py",
   "mimetype": "text/x-python",
   "name": "python",
   "nbconvert_exporter": "python",
   "pygments_lexer": "ipython3",
   "version": "3.6.5"
  }
 },
 "nbformat": 4,
 "nbformat_minor": 2
}
