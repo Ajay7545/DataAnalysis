{
 "cells": [
  {
   "cell_type": "code",
   "execution_count": 1,
   "metadata": {},
   "outputs": [],
   "source": [
    "import xlrd\n",
    "import xlsxwriter"
   ]
  },
  {
   "cell_type": "code",
   "execution_count": 3,
   "metadata": {},
   "outputs": [],
   "source": [
    "book=xlrd.open_workbook(r'onfinal.xlsx')\n",
    "sheet=book.sheet_by_index(0)"
   ]
  },
  {
   "cell_type": "code",
   "execution_count": 4,
   "metadata": {},
   "outputs": [],
   "source": [
    "wb=xlsxwriter.Workbook(r'final.xlsx')\n",
    "worksheet=wb.add_worksheet()\n",
    "worksheet.write(0,0,'polarity')\n",
    "worksheet.write(0,1,'text')\n",
    "for i in range(0,50000):\n",
    "    for j in range(0,1):\n",
    "        m=sheet.cell(i,j).value\n",
    "        flag=0\n",
    "        if \"__label__1\" in m:\n",
    "            flag=1\n",
    "        elif \"__label__2\" in m:\n",
    "            flag=2\n",
    "        if flag==1:\n",
    "            a=m.split('__label__1')\n",
    "        elif flag==2:\n",
    "            a=m.split('__label__2')\n",
    "        \n",
    "        if flag==1:\n",
    "            flag=0\n",
    "        \n",
    "        elif flag==2:\n",
    "            flag=1\n",
    "        worksheet.write(i+1,j,flag)\n",
    "        worksheet.write(i+1,j+1,a[1])\n",
    "        \n",
    "wb.close()"
   ]
  },
  {
   "cell_type": "code",
   "execution_count": null,
   "metadata": {},
   "outputs": [],
   "source": []
  }
 ],
 "metadata": {
  "kernelspec": {
   "display_name": "Python 3",
   "language": "python",
   "name": "python3"
  },
  "language_info": {
   "codemirror_mode": {
    "name": "ipython",
    "version": 3
   },
   "file_extension": ".py",
   "mimetype": "text/x-python",
   "name": "python",
   "nbconvert_exporter": "python",
   "pygments_lexer": "ipython3",
   "version": "3.6.5"
  }
 },
 "nbformat": 4,
 "nbformat_minor": 2
}
